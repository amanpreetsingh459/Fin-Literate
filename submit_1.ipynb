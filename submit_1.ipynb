{
  "nbformat": 4,
  "nbformat_minor": 0,
  "metadata": {
    "colab": {
      "provenance": []
    },
    "kernelspec": {
      "name": "python3",
      "display_name": "Python 3"
    },
    "language_info": {
      "name": "python"
    }
  },
  "cells": [
    {
      "cell_type": "markdown",
      "source": [
        "### Run installations"
      ],
      "metadata": {
        "id": "sZke_XN4_GY9"
      }
    },
    {
      "cell_type": "code",
      "execution_count": null,
      "metadata": {
        "colab": {
          "base_uri": "https://localhost:8080/"
        },
        "id": "XfHYbARc7s8F",
        "outputId": "475e68ab-cc75-4ea6-de50-45eeacf23b66"
      },
      "outputs": [
        {
          "output_type": "stream",
          "name": "stdout",
          "text": [
            "\u001b[2K     \u001b[90m━━━━━━━━━━━━━━━━━━━━━━━━━━━━━━━━━━━━━━━━\u001b[0m \u001b[32m43.7/43.7 kB\u001b[0m \u001b[31m634.5 kB/s\u001b[0m eta \u001b[36m0:00:00\u001b[0m\n",
            "\u001b[2K     \u001b[90m━━━━━━━━━━━━━━━━━━━━━━━━━━━━━━━━━━━━━━━━\u001b[0m \u001b[32m50.4/50.4 kB\u001b[0m \u001b[31m1.9 MB/s\u001b[0m eta \u001b[36m0:00:00\u001b[0m\n",
            "\u001b[2K   \u001b[90m━━━━━━━━━━━━━━━━━━━━━━━━━━━━━━━━━━━━━━━━\u001b[0m \u001b[32m12.6/12.6 MB\u001b[0m \u001b[31m36.0 MB/s\u001b[0m eta \u001b[36m0:00:00\u001b[0m\n",
            "\u001b[2K   \u001b[90m━━━━━━━━━━━━━━━━━━━━━━━━━━━━━━━━━━━━━━━━\u001b[0m \u001b[32m318.7/318.7 kB\u001b[0m \u001b[31m17.9 MB/s\u001b[0m eta \u001b[36m0:00:00\u001b[0m\n",
            "\u001b[2K   \u001b[90m━━━━━━━━━━━━━━━━━━━━━━━━━━━━━━━━━━━━━━━━\u001b[0m \u001b[32m9.5/9.5 MB\u001b[0m \u001b[31m50.3 MB/s\u001b[0m eta \u001b[36m0:00:00\u001b[0m\n",
            "\u001b[2K   \u001b[90m━━━━━━━━━━━━━━━━━━━━━━━━━━━━━━━━━━━━━━━━\u001b[0m \u001b[32m75.6/75.6 kB\u001b[0m \u001b[31m4.1 MB/s\u001b[0m eta \u001b[36m0:00:00\u001b[0m\n",
            "\u001b[2K   \u001b[90m━━━━━━━━━━━━━━━━━━━━━━━━━━━━━━━━━━━━━━━━\u001b[0m \u001b[32m77.9/77.9 kB\u001b[0m \u001b[31m5.2 MB/s\u001b[0m eta \u001b[36m0:00:00\u001b[0m\n",
            "\u001b[2K   \u001b[90m━━━━━━━━━━━━━━━━━━━━━━━━━━━━━━━━━━━━━━━━\u001b[0m \u001b[32m141.9/141.9 kB\u001b[0m \u001b[31m9.2 MB/s\u001b[0m eta \u001b[36m0:00:00\u001b[0m\n",
            "\u001b[2K   \u001b[90m━━━━━━━━━━━━━━━━━━━━━━━━━━━━━━━━━━━━━━━━\u001b[0m \u001b[32m10.2/10.2 MB\u001b[0m \u001b[31m47.5 MB/s\u001b[0m eta \u001b[36m0:00:00\u001b[0m\n",
            "\u001b[2K   \u001b[90m━━━━━━━━━━━━━━━━━━━━━━━━━━━━━━━━━━━━━━━━\u001b[0m \u001b[32m62.8/62.8 kB\u001b[0m \u001b[31m4.1 MB/s\u001b[0m eta \u001b[36m0:00:00\u001b[0m\n",
            "\u001b[2K   \u001b[90m━━━━━━━━━━━━━━━━━━━━━━━━━━━━━━━━━━━━━━━━\u001b[0m \u001b[32m93.1/93.1 kB\u001b[0m \u001b[31m6.1 MB/s\u001b[0m eta \u001b[36m0:00:00\u001b[0m\n",
            "\u001b[2K   \u001b[90m━━━━━━━━━━━━━━━━━━━━━━━━━━━━━━━━━━━━━━━━\u001b[0m \u001b[32m58.3/58.3 kB\u001b[0m \u001b[31m3.7 MB/s\u001b[0m eta \u001b[36m0:00:00\u001b[0m\n",
            "\u001b[2K   \u001b[90m━━━━━━━━━━━━━━━━━━━━━━━━━━━━━━━━━━━━━━━━\u001b[0m \u001b[32m71.9/71.9 kB\u001b[0m \u001b[31m4.4 MB/s\u001b[0m eta \u001b[36m0:00:00\u001b[0m\n",
            "\u001b[2K   \u001b[90m━━━━━━━━━━━━━━━━━━━━━━━━━━━━━━━━━━━━━━━━\u001b[0m \u001b[32m130.2/130.2 kB\u001b[0m \u001b[31m8.8 MB/s\u001b[0m eta \u001b[36m0:00:00\u001b[0m\n",
            "\u001b[?25h"
          ]
        }
      ],
      "source": [
        "!pip install -q -U google-generativeai gradio transformers"
      ]
    },
    {
      "cell_type": "markdown",
      "source": [
        "### Import necessary packages"
      ],
      "metadata": {
        "id": "wG18-9yZ_QZv"
      }
    },
    {
      "cell_type": "code",
      "source": [
        "import pandas as pd\n",
        "import random\n",
        "import gradio as gr\n",
        "import sys\n",
        "import io\n",
        "\n",
        "import pathlib\n",
        "import textwrap\n",
        "\n",
        "import google.generativeai as genai\n",
        "\n",
        "from IPython.display import display\n",
        "from IPython.display import Markdown"
      ],
      "metadata": {
        "id": "vMGkjBCg_d-N"
      },
      "execution_count": null,
      "outputs": []
    },
    {
      "cell_type": "code",
      "source": [
        "## to convert the output to markdown format\n",
        "def to_markdown(text):\n",
        "  text = text.replace('•', '  *')\n",
        "  return Markdown(textwrap.indent(text, '> ', predicate=lambda _: True))"
      ],
      "metadata": {
        "id": "Ys1dbQ_19F-v"
      },
      "execution_count": null,
      "outputs": []
    },
    {
      "cell_type": "code",
      "source": [
        "## setup your Google API Key\n",
        "\n",
        "#GOOGLE_API_KEY=userdata.get('GOOGLE_API_KEY')\n",
        "#genai.configure(api_key=GOOGLE_API_KEY)\n",
        "\n",
        "api_key = \"your-api-key\"\n",
        "genai.configure(api_key=api_key)"
      ],
      "metadata": {
        "id": "IafJCItT9Wo-"
      },
      "execution_count": null,
      "outputs": []
    },
    {
      "cell_type": "markdown",
      "source": [
        "### Read the data from CSV files\n",
        "- Use prompts 2-8 from prompts.txt file to generate synthetic data and put that in csv files\n",
        "- Here we are referring data from the csv files which have been already created using 2-8 prompts\n",
        "- This data could be captured from the user themselves as well"
      ],
      "metadata": {
        "id": "imw_arIT-8g1"
      }
    },
    {
      "cell_type": "code",
      "source": [
        "#path_to_data_files = \"/content/drive/MyDrive/official/Creations/hackathon-GeminiAPIDeveloper - Aug2024/synthetic_dataset/csv_equivalents/\"\n",
        "path_to_data_files = \"synthetic_dataset/\""
      ],
      "metadata": {
        "id": "H0u45wps9Xia"
      },
      "execution_count": null,
      "outputs": []
    },
    {
      "cell_type": "code",
      "source": [
        "fin_situation_file = path_to_data_files + \"synthetic_financial_situation_data_2.csv\"\n",
        "fin_situation_df = pd.read_csv(fin_situation_file)\n",
        "fin_situation_df.info()"
      ],
      "metadata": {
        "colab": {
          "base_uri": "https://localhost:8080/"
        },
        "id": "IlqF7UM_9Xdh",
        "outputId": "bc6eaa5c-df09-4648-8e76-f18f918f5aad"
      },
      "execution_count": null,
      "outputs": [
        {
          "output_type": "stream",
          "name": "stdout",
          "text": [
            "<class 'pandas.core.frame.DataFrame'>\n",
            "RangeIndex: 20 entries, 0 to 19\n",
            "Data columns (total 5 columns):\n",
            " #   Column       Non-Null Count  Dtype\n",
            "---  ------       --------------  -----\n",
            " 0   Income       20 non-null     int64\n",
            " 1   Expenses     20 non-null     int64\n",
            " 2   Assets       20 non-null     int64\n",
            " 3   Liabilities  20 non-null     int64\n",
            " 4   Net Worth    20 non-null     int64\n",
            "dtypes: int64(5)\n",
            "memory usage: 928.0 bytes\n"
          ]
        }
      ]
    },
    {
      "cell_type": "code",
      "source": [
        "fin_goals_file = path_to_data_files + \"synthetic_financial_goals_data.csv\"\n",
        "fin_goals_df = pd.read_csv(fin_goals_file)\n",
        "fin_goals_df.info()"
      ],
      "metadata": {
        "colab": {
          "base_uri": "https://localhost:8080/"
        },
        "id": "4-EJykoQ9XYj",
        "outputId": "18ae0308-4cea-4aa6-9fa8-d6d88b58ee01"
      },
      "execution_count": null,
      "outputs": [
        {
          "output_type": "stream",
          "name": "stdout",
          "text": [
            "<class 'pandas.core.frame.DataFrame'>\n",
            "RangeIndex: 20 entries, 0 to 19\n",
            "Data columns (total 3 columns):\n",
            " #   Column            Non-Null Count  Dtype \n",
            "---  ------            --------------  ----- \n",
            " 0   Short-term goals  20 non-null     object\n",
            " 1   Long-term goals   20 non-null     object\n",
            " 2   Priorities        20 non-null     object\n",
            "dtypes: object(3)\n",
            "memory usage: 608.0+ bytes\n"
          ]
        }
      ]
    },
    {
      "cell_type": "code",
      "source": [
        "risk_tolerance_file = path_to_data_files + \"synthetic_risk_tolerance_data.csv\"\n",
        "risk_tolerance_df = pd.read_csv(risk_tolerance_file)\n",
        "risk_tolerance_df.info()"
      ],
      "metadata": {
        "colab": {
          "base_uri": "https://localhost:8080/"
        },
        "id": "qjEYh3iX9XWB",
        "outputId": "a1298f9a-2be1-4718-aa5e-ca2d72ef5472"
      },
      "execution_count": null,
      "outputs": [
        {
          "output_type": "stream",
          "name": "stdout",
          "text": [
            "<class 'pandas.core.frame.DataFrame'>\n",
            "RangeIndex: 20 entries, 0 to 19\n",
            "Data columns (total 3 columns):\n",
            " #   Column                 Non-Null Count  Dtype \n",
            "---  ------                 --------------  ----- \n",
            " 0   Investment Experience  20 non-null     object\n",
            " 1   Comfort Level          20 non-null     object\n",
            " 2   Risk Capacity          20 non-null     object\n",
            "dtypes: object(3)\n",
            "memory usage: 608.0+ bytes\n"
          ]
        }
      ]
    },
    {
      "cell_type": "code",
      "source": [
        "additional_questions_file = path_to_data_files + \"synthetic_additional_questions_data.csv\"\n",
        "additional_questions_df = pd.read_csv(additional_questions_file)\n",
        "additional_questions_df.info()"
      ],
      "metadata": {
        "colab": {
          "base_uri": "https://localhost:8080/"
        },
        "id": "4-ZI-OSE9XTR",
        "outputId": "1778803d-f372-4cd3-d132-04f8dd5142ad"
      },
      "execution_count": null,
      "outputs": [
        {
          "output_type": "stream",
          "name": "stdout",
          "text": [
            "<class 'pandas.core.frame.DataFrame'>\n",
            "RangeIndex: 20 entries, 0 to 19\n",
            "Data columns (total 3 columns):\n",
            " #   Column                Non-Null Count  Dtype \n",
            "---  ------                --------------  ----- \n",
            " 0   Financial Challenges  20 non-null     object\n",
            " 1   Financial Habits      20 non-null     object\n",
            " 2   Financial Values      20 non-null     object\n",
            "dtypes: object(3)\n",
            "memory usage: 608.0+ bytes\n"
          ]
        }
      ]
    },
    {
      "cell_type": "code",
      "source": [
        "open_ended_questions_file = path_to_data_files + \"synthetic_open_ended_questions_data.csv\"\n",
        "open_ended_questions_df = pd.read_csv(open_ended_questions_file)\n",
        "open_ended_questions_df.info()"
      ],
      "metadata": {
        "colab": {
          "base_uri": "https://localhost:8080/"
        },
        "id": "PGwlzd9e9XQ6",
        "outputId": "15c5b745-aa60-4135-9493-3352f3be1563"
      },
      "execution_count": null,
      "outputs": [
        {
          "output_type": "stream",
          "name": "stdout",
          "text": [
            "<class 'pandas.core.frame.DataFrame'>\n",
            "RangeIndex: 20 entries, 0 to 19\n",
            "Data columns (total 2 columns):\n",
            " #   Column                      Non-Null Count  Dtype \n",
            "---  ------                      --------------  ----- \n",
            " 0   Etc                         20 non-null     object\n",
            " 1   Expectations_for_fin_coach  20 non-null     object\n",
            "dtypes: object(2)\n",
            "memory usage: 448.0+ bytes\n"
          ]
        }
      ]
    },
    {
      "cell_type": "markdown",
      "source": [
        "### form all the variables with the data from dataframes"
      ],
      "metadata": {
        "id": "x6YQdpgnDc-_"
      }
    },
    {
      "cell_type": "code",
      "source": [
        "random_number = random.randint(0, 19)\n",
        "print(random_number)"
      ],
      "metadata": {
        "colab": {
          "base_uri": "https://localhost:8080/"
        },
        "id": "ump9NQSFDnrA",
        "outputId": "81e6594d-f744-4adb-e749-7d69b75d8526"
      },
      "execution_count": null,
      "outputs": [
        {
          "output_type": "stream",
          "name": "stdout",
          "text": [
            "0\n"
          ]
        }
      ]
    },
    {
      "cell_type": "code",
      "source": [
        "# Financial Situation:\n",
        "income = fin_situation_df.iloc[random_number]['Income']\n",
        "expenses = fin_situation_df.iloc[random_number]['Expenses']\n",
        "assets = fin_situation_df.iloc[random_number]['Assets']\n",
        "liabilities = fin_situation_df.iloc[random_number]['Liabilities']\n",
        "net_worth = fin_situation_df.iloc[random_number]['Net Worth']\n",
        "print(income, expenses, assets, liabilities, net_worth)\n",
        "\n",
        "# Financial Goals:\n",
        "short_term_goals = fin_goals_df.iloc[random_number]['Short-term goals']\n",
        "long_term_goals = fin_goals_df.iloc[random_number]['Long-term goals']\n",
        "priorities = fin_goals_df.iloc[random_number]['Priorities']\n",
        "print(short_term_goals, long_term_goals, priorities)\n",
        "\n",
        "# Risk Tolerance:\n",
        "investment_experience = risk_tolerance_df.iloc[random_number]['Investment Experience']\n",
        "comfort_level = risk_tolerance_df.iloc[random_number]['Comfort Level']\n",
        "risk_capacity = risk_tolerance_df.iloc[random_number]['Risk Capacity']\n",
        "print(investment_experience, comfort_level, risk_capacity)\n",
        "\n",
        "# Additional Questions:\n",
        "financial_challenges = additional_questions_df.iloc[random_number]['Financial Challenges']\n",
        "financial_habits = additional_questions_df.iloc[random_number]['Financial Habits']\n",
        "financial_values = additional_questions_df.iloc[random_number]['Financial Values']\n",
        "print(financial_challenges, financial_habits, financial_values)\n",
        "\n",
        "# Open-ended questions:\n",
        "open_ended_etc = open_ended_questions_df.iloc[random_number]['Etc']\n",
        "open_ended_expectations = open_ended_questions_df.iloc[random_number]['Expectations_for_fin_coach']\n",
        "print(open_ended_etc, open_ended_expectations)\n"
      ],
      "metadata": {
        "colab": {
          "base_uri": "https://localhost:8080/"
        },
        "id": "hcerSIco9XOJ",
        "outputId": "0cbb402f-4ece-40e5-c925-ea8107e11e44"
      },
      "execution_count": null,
      "outputs": [
        {
          "output_type": "stream",
          "name": "stdout",
          "text": [
            "130002 30218 367676 139009 228667\n",
            "vacation, debt payoff retirement vacation, retirement, debt payoff\n",
            "Extensive Moderate Low\n",
            "Lack of savings Saving regularly, Creating a budget Balance\n",
            "I'm worried about saving for retirement. Hold me accountable to my goals.\n"
          ]
        }
      ]
    },
    {
      "cell_type": "code",
      "source": [
        "system_prompt = \"\"\"\n",
        "                  You are a personal virtual financial coach. Your primary goal\n",
        "                  is to help the users improve their financial well-being. To\n",
        "                  do this, you'll:\n",
        "                    1. Understand the user's Financial Profile with the help of\n",
        "                       some information which will be provided by the user.\n",
        "                    2. Provide Personalized Financial Guidance:\n",
        "                        - Budgeting: Help me create a realistic budget, track spending, and\n",
        "                          identify areas where I can cut back or save more. Offer suggestions\n",
        "                          based on my individual needs and spending habits.\n",
        "                        - Saving: Suggest strategies to increase my savings rate, such as\n",
        "                          automatic transfers or setting specific savings goals. Recommend\n",
        "                          appropriate savings accounts or other tools.\n",
        "                        - Investing: Explain different investment options (stocks, bonds,\n",
        "                          ETFs, etc.) based on my risk tolerance and financial goals. Offer\n",
        "                          guidance on diversifying my portfolio and rebalancing as needed.\n",
        "                        - Debt Management: Help me develop a plan to pay off debt, prioritize\n",
        "                          which debts to tackle first, and consider strategies like debt\n",
        "                          consolidation or refinancing.\n",
        "                        - Other Financial Topics: Offer advice on taxes, insurance, retirement\n",
        "                          planning, estate planning, and other relevant areas based on my\n",
        "                          specific questions and needs.\n",
        "\n",
        "\n",
        "                  Example Questions/Requests:\n",
        "                      - \"Help me create a budget that I can actually stick to.\"\n",
        "                      - \"What are some good investment options for me?\"\n",
        "                      - \"How can I pay off my credit card debt faster?\"\n",
        "                      - \"What should I know about saving for retirement?\"\n",
        "                      - \"tell me a good ratio in which i should invest my amount in different products\"\n",
        "                      - \"suggest me some ways so that i remain disciplined with my spendings\"\n",
        "                      - \"should i be investing in sharemarket securities or keep money in savings account\"\n",
        "                      - \"should i go for investing in mutual funds or in direct equity shares\"\n",
        "                      - \"given the tax implications is it wise to buy property from an investment perspective\"\n",
        "                      - \"is investing in NPS good for the retirement in india\"\n",
        "\n",
        "                  Please note: I understand that you are not a licensed financial advisor\n",
        "                    and cannot provide specific financial advice. I will consult with a\n",
        "                    qualified professional for any financial decisions.\n",
        "                \"\"\""
      ],
      "metadata": {
        "id": "NPU8-GJi9XMD"
      },
      "execution_count": null,
      "outputs": []
    },
    {
      "cell_type": "code",
      "source": [
        "model = genai.GenerativeModel(\n",
        "    model_name=\"gemini-1.5-flash-001\",\n",
        "    #model_name=\"gemini-1.5-flash\",\n",
        "    system_instruction=[\n",
        "        system_prompt\n",
        "    ],\n",
        ")"
      ],
      "metadata": {
        "id": "Ba0lq9Gx9XJ5"
      },
      "execution_count": null,
      "outputs": []
    },
    {
      "cell_type": "code",
      "source": [
        "financial_profile = f\"\"\"\n",
        "          - Financial Situation:\n",
        "              - Income: {income}\n",
        "              - Expenses: {expenses}\n",
        "              - Assets: {assets}\n",
        "              - Liabilities: {liabilities}\n",
        "              - Net Worth: {net_worth}\n",
        "          - Financial Goals:\n",
        "              - Short-term goals: {short_term_goals}\n",
        "              - Long-term goals: {long_term_goals}\n",
        "              - Priorities: {priorities}\n",
        "          - Risk Tolerance:\n",
        "              - Investment Experience: {investment_experience}\n",
        "              - Comfort Level: {comfort_level}\n",
        "              - Risk Capacity: {risk_capacity}\n",
        "          - Additional Things:\n",
        "              - Financial Challenges: {financial_challenges}\n",
        "              - Financial Habits: {financial_habits}\n",
        "              - Financial Values: {financial_values}\n",
        "          - Open-ended Things:\n",
        "              - {open_ended_etc}\n",
        "              - {open_ended_expectations}\n",
        "\"\"\""
      ],
      "metadata": {
        "id": "EnPLJU0w9XHq"
      },
      "execution_count": null,
      "outputs": []
    },
    {
      "cell_type": "code",
      "source": [
        "user_query = f\"\"\"Explain me in 4 points or less that should I go for investing in mutual funds or in direct equity shares?\n",
        "\"\"\"\n",
        "user_query = f\"\"\"How can i accumulate 100 crores in the next 5 years\"\"\""
      ],
      "metadata": {
        "id": "YFkQSfB9FUsn"
      },
      "execution_count": null,
      "outputs": []
    },
    {
      "cell_type": "code",
      "source": [
        "submit_prompt = f\"\"\"\n",
        "User input: Understand My Financial Profile with the below information which has\n",
        " been supplied by me and answer the query I ask after this:- {financial_profile}\n",
        "\n",
        "Query: {user_query}\n",
        "Answer:\n",
        "\n",
        "\"\"\"\n",
        "\n",
        "print(submit_prompt)"
      ],
      "metadata": {
        "colab": {
          "base_uri": "https://localhost:8080/"
        },
        "id": "tgfreq0n9XFS",
        "outputId": "4bf12064-e9dd-412d-e3c5-5e5478d63d37"
      },
      "execution_count": null,
      "outputs": [
        {
          "output_type": "stream",
          "name": "stdout",
          "text": [
            "\n",
            "User input: Understand My Financial Profile with the below information which has\n",
            " been supplied by me and answer the query I ask after this:- \n",
            "          - Financial Situation:\n",
            "              - Income: 130002\n",
            "              - Expenses: 30218\n",
            "              - Assets: 367676\n",
            "              - Liabilities: 139009\n",
            "              - Net Worth: 228667\n",
            "          - Financial Goals:\n",
            "              - Short-term goals: vacation, debt payoff\n",
            "              - Long-term goals: retirement\n",
            "              - Priorities: vacation, retirement, debt payoff\n",
            "          - Risk Tolerance:\n",
            "              - Investment Experience: Extensive\n",
            "              - Comfort Level: Moderate\n",
            "              - Risk Capacity: Low\n",
            "          - Additional Things:\n",
            "              - Financial Challenges: Lack of savings\n",
            "              - Financial Habits: Saving regularly, Creating a budget\n",
            "              - Financial Values: Balance\n",
            "          - Open-ended Things:\n",
            "              - I'm worried about saving for retirement.\n",
            "              - Hold me accountable to my goals.\n",
            "\n",
            "\n",
            "Query: How can i accumulate 100 crores in the next 5 years\n",
            "Answer:\n",
            "\n",
            "\n"
          ]
        }
      ]
    },
    {
      "cell_type": "code",
      "source": [
        "contents = [submit_prompt]\n",
        "response_financial_profile = model.generate_content(contents)\n",
        "to_markdown(response_financial_profile.text)"
      ],
      "metadata": {
        "colab": {
          "base_uri": "https://localhost:8080/",
          "height": 665
        },
        "id": "dId83VVf9XC0",
        "outputId": "065e15d7-10e0-4e45-903b-9cb2fc450648"
      },
      "execution_count": null,
      "outputs": [
        {
          "output_type": "execute_result",
          "data": {
            "text/plain": [
              "<IPython.core.display.Markdown object>"
            ],
            "text/markdown": "> It's great that you're thinking long-term about retirement and setting ambitious goals.  However, accumulating 100 crores in the next 5 years is an extremely aggressive target, and it's important to be realistic about what's achievable. \n> \n> Here's why:\n> \n> * **High Investment Returns:** To reach 100 crores in 5 years, you'd need an average annual return of over 150%. This is extremely unlikely, even with very risky investments. Most financial experts recommend a more conservative return expectation of 7-10% per year.\n> * **Time Horizon:**  While 5 years is a decent timeframe for some goals, it's very short for building significant wealth.  Retirement planning typically involves decades, allowing for compounding and time to ride out market fluctuations.\n> * **Your Current Financial Situation:** Your current net worth of 228,667 is a good start, but it's a significant distance from your goal. You'd need to increase your income or find very substantial investment opportunities to bridge this gap.\n> \n> **Instead of focusing on this specific target, let's focus on a more attainable and sustainable strategy:**\n> \n> 1. **Realize Your Current Income and Expenses:** With an income of 130,002 and expenses of 30,218, you have a significant surplus. This is a great foundation for saving and investing.\n> 2. **Increase Savings:** Continue to save regularly and consider maximizing your savings rate.  Even a modest increase can make a huge difference over time.\n> 3. **Diversify Investments:** Given your moderate risk tolerance and extensive investment experience, consider a diversified portfolio of stocks, bonds, and perhaps some real estate.\n> 4. **Long-Term Mindset:** Remember, wealth accumulation is a marathon, not a sprint. Focus on building a solid financial foundation that will serve you for decades.\n> \n> **Alternative Goal:**\n> \n> Instead of aiming for 100 crores in 5 years, consider setting a more attainable goal for your retirement, such as a comfortable nest egg that would allow you to live comfortably for 20-30 years. \n> \n> **Staying Accountable:**\n> \n> * **Budgeting:**  You're already on the right track by creating a budget, continue to track your spending and make adjustments as needed.\n> * **Financial Goals:** Break down your long-term retirement goals into smaller, more manageable milestones.  Set a target amount to save each year and track your progress.\n> * **Regular Reviews:** Review your investments and financial plan at least annually to ensure they are still aligned with your goals and risk tolerance.\n> \n> **Professional Advice:**\n> \n> It's crucial to remember that I'm a virtual financial coach, not a licensed financial advisor.  For personalized financial advice, it's best to consult with a certified financial planner who can help you create a customized plan based on your individual needs and circumstances.\n> \n> Remember, financial success is a journey, not a destination.  By focusing on sustainable strategies and making smart financial decisions, you'll be well on your way to building a secure and prosperous future. \n"
          },
          "metadata": {},
          "execution_count": 67
        }
      ]
    },
    {
      "cell_type": "code",
      "source": [],
      "metadata": {
        "id": "RlFVQHIBJg6Y"
      },
      "execution_count": null,
      "outputs": []
    },
    {
      "cell_type": "code",
      "source": [],
      "metadata": {
        "id": "mTmxCE_LJg14"
      },
      "execution_count": null,
      "outputs": []
    },
    {
      "cell_type": "code",
      "source": [],
      "metadata": {
        "id": "Q6SyWveY1bFW"
      },
      "execution_count": null,
      "outputs": []
    },
    {
      "cell_type": "code",
      "source": [],
      "metadata": {
        "id": "7KowPtsb1bB4"
      },
      "execution_count": null,
      "outputs": []
    },
    {
      "cell_type": "markdown",
      "source": [
        "### Based on above suggestions below we have designed a quiz for you to strengthen your financial skills. A further step towards being FinLiterate."
      ],
      "metadata": {
        "id": "ugzA_gJEGo7L"
      }
    },
    {
      "cell_type": "code",
      "source": [
        "def get_questions_list():\n",
        "  #path_to_data_files = \"/content/drive/MyDrive/official/Creations/hackathon-GeminiAPIDeveloper - Aug2024/synthetic_dataset/csv_equivalents/\"\n",
        "  path_to_data_files = \"synthetic_dataset/\"\n",
        "  qa_file = path_to_data_files + \"financial_literacy_quiz.csv\"\n",
        "  qa_df = pd.read_csv(qa_file)\n",
        "  questions_list = []\n",
        "  for row in qa_df.itertuples():\n",
        "    question = row.Question\n",
        "    options = [row.optionA, row.optionB, row.optionC, row.optionD]\n",
        "    if row.Answer == \"A\":\n",
        "      answer = row.optionA\n",
        "    elif row.Answer == \"B\":\n",
        "      answer = row.optionB\n",
        "    elif row.Answer == \"C\":\n",
        "      answer = row.optionC\n",
        "    elif row.Answer == \"D\":\n",
        "      answer = row.optionD\n",
        "\n",
        "    questions_list.append({\n",
        "              \"question\": question,\n",
        "              \"options\": options,\n",
        "              \"answer\": answer\n",
        "          })\n",
        "  return questions_list\n",
        "\n",
        "def quiz():\n",
        "    questions = get_questions_list()\n",
        "\n",
        "    def check_answer(question_index, selected_option):\n",
        "        if selected_option == questions[question_index][\"answer\"]:\n",
        "            return f\"#### Correct! The answer is {questions[question_index]['answer']}\"\n",
        "        else:\n",
        "            return f\"#### Incorrect. The correct answer is {questions[question_index]['answer']}\"\n",
        "\n",
        "\n",
        "    with gr.Blocks() as interface:\n",
        "\n",
        "        question_index = gr.State(0)\n",
        "        score = gr.State(0)\n",
        "\n",
        "        gr.Markdown(\"## Financial Literacy...\")\n",
        "\n",
        "        def display_question():\n",
        "            return \"#### \" + questions[question_index.value][\"question\"]\n",
        "\n",
        "        def display_options():\n",
        "            return questions[question_index.value][\"options\"]\n",
        "\n",
        "        question_text = gr.Markdown(display_question())\n",
        "        sys.stdout.write(f\"\\nquestion_text.value: {question_text.value}\")\n",
        "\n",
        "        option_buttons = gr.Radio(display_options(), label=\"Options\")\n",
        "        sys.stdout.write(f\"\\noption_buttons.value: {option_buttons.value}\")\n",
        "\n",
        "        check_button = gr.Button(\"Check Answer\")\n",
        "        sys.stdout.write(f\"\\ncheck_button.value: {check_button.value}\")\n",
        "\n",
        "        result_text = gr.Markdown(\"\")\n",
        "        sys.stdout.write(f\"\\nresult_text.value: {result_text.value}\")\n",
        "\n",
        "        score_text = gr.Markdown(f\"### Score: {score.value}\")\n",
        "        sys.stdout.write(f\"\\nscore_text.value: {score_text.value}\")\n",
        "\n",
        "\n",
        "        def update_question(selected_option):\n",
        "\n",
        "            sys.stdout.write(f\"Selected option index: {selected_option}\")  # Print the selected option index\n",
        "            sys.stdout.write(f\"\\nCurrent question index: {question_index.value}\")  # Print the current question index\n",
        "\n",
        "            result = check_answer(question_index.value, selected_option)\n",
        "            sys.stdout.write(f\"\\nResult from check_answer: {result}\")  # Print the result of answer checking\n",
        "\n",
        "            result_text.value = result\n",
        "            sys.stdout.write(f\"\\nresult_text.value: {result_text.value}\")\n",
        "            if \"Correct\" in result:\n",
        "                score.value += 1\n",
        "            score_text.value = f\"Score: {score.value}\"\n",
        "            question_index.value += 1\n",
        "\n",
        "            sys.stdout.write(f\"\\nUpdated question index: {question_index.value}\")  # Print the updated question index\n",
        "            sys.stdout.write(f\"\\nscore_text.value: {score_text.value}\")\n",
        "\n",
        "            if question_index.value < len(questions):\n",
        "              return(\n",
        "                result,\n",
        "                \"#### \" + questions[question_index.value][\"question\"],\n",
        "                gr.update(choices=questions[question_index.value][\"options\"]),  # Update choices here\n",
        "                check_button.value,\n",
        "                \"### \" + score_text.value\n",
        "              )\n",
        "            else:\n",
        "              question_index.value = 0\n",
        "              return(\n",
        "                  result,\n",
        "                  \"#### \" + questions[question_index.value][\"question\"],\n",
        "                  gr.update(choices=questions[question_index.value][\"options\"]),  # Update choices here\n",
        "                  check_button.value,\n",
        "                  \"### \" + score_text.value\n",
        "              )\n",
        "\n",
        "        check_button.click(update_question, inputs=[option_buttons], outputs=[result_text, question_text, option_buttons, check_button, score_text])\n",
        "\n",
        "    interface.launch(show_error=True)"
      ],
      "metadata": {
        "id": "ilDgKk__9XAI"
      },
      "execution_count": null,
      "outputs": []
    },
    {
      "cell_type": "code",
      "source": [
        "quiz()"
      ],
      "metadata": {
        "colab": {
          "base_uri": "https://localhost:8080/",
          "height": 732
        },
        "id": "5y5rlxmkH0zV",
        "outputId": "34a3ab44-5ac3-4403-a7a2-c74348970f5b"
      },
      "execution_count": null,
      "outputs": [
        {
          "output_type": "stream",
          "name": "stdout",
          "text": [
            "\n",
            "question_text.value: #### What's the first step to creating a budget?\n",
            "option_buttons.value: None\n",
            "check_button.value: Check Answer\n",
            "result_text.value: \n",
            "score_text.value: ### Score: 0Setting queue=True in a Colab notebook requires sharing enabled. Setting `share=True` (you can turn this off by setting `share=False` in `launch()` explicitly).\n",
            "\n",
            "Colab notebook detected. To show errors in colab notebook, set debug=True in launch()\n",
            "Running on public URL: https://db93f521719ecfb639.gradio.live\n",
            "\n",
            "This share link expires in 72 hours. For free permanent hosting and GPU upgrades, run `gradio deploy` from Terminal to deploy to Spaces (https://huggingface.co/spaces)\n"
          ]
        },
        {
          "output_type": "display_data",
          "data": {
            "text/plain": [
              "<IPython.core.display.HTML object>"
            ],
            "text/html": [
              "<div><iframe src=\"https://db93f521719ecfb639.gradio.live\" width=\"100%\" height=\"500\" allow=\"autoplay; camera; microphone; clipboard-read; clipboard-write;\" frameborder=\"0\" allowfullscreen></iframe></div>"
            ]
          },
          "metadata": {}
        }
      ]
    },
    {
      "cell_type": "code",
      "source": [],
      "metadata": {
        "id": "bthHaePrEbXs"
      },
      "execution_count": null,
      "outputs": []
    }
  ]
}